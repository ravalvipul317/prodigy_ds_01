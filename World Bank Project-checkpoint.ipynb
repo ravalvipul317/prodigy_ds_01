{
 "cells": [
  {
   "cell_type": "markdown",
   "id": "fcb0ec06",
   "metadata": {},
   "source": [
    "# Import all the libraries:-"
   ]
  },
  {
   "cell_type": "code",
   "execution_count": 1,
   "id": "de58b3be",
   "metadata": {},
   "outputs": [],
   "source": [
    "import numpy as np\n",
    "import pandas as pd\n",
    "import matplotlib.pyplot as plt\n",
    "import seaborn as sns"
   ]
  },
  {
   "cell_type": "markdown",
   "id": "d050d5b5",
   "metadata": {},
   "source": [
    "# Import the dataset:-"
   ]
  },
  {
   "cell_type": "code",
   "execution_count": 2,
   "id": "1680ed26",
   "metadata": {},
   "outputs": [],
   "source": [
    "df = pd.read_csv(\"API_SP.POP.TOTL_DS2_en_csv_v2_5551506.csv\")"
   ]
  },
  {
   "cell_type": "code",
   "execution_count": 3,
   "id": "c172fb94",
   "metadata": {},
   "outputs": [
    {
     "data": {
      "text/html": [
       "<div>\n",
       "<style scoped>\n",
       "    .dataframe tbody tr th:only-of-type {\n",
       "        vertical-align: middle;\n",
       "    }\n",
       "\n",
       "    .dataframe tbody tr th {\n",
       "        vertical-align: top;\n",
       "    }\n",
       "\n",
       "    .dataframe thead th {\n",
       "        text-align: right;\n",
       "    }\n",
       "</style>\n",
       "<table border=\"1\" class=\"dataframe\">\n",
       "  <thead>\n",
       "    <tr style=\"text-align: right;\">\n",
       "      <th></th>\n",
       "      <th>Country Name</th>\n",
       "      <th>Country Code</th>\n",
       "      <th>Indicator Name</th>\n",
       "      <th>Indicator Code</th>\n",
       "      <th>1960</th>\n",
       "      <th>1961</th>\n",
       "      <th>1962</th>\n",
       "      <th>1963</th>\n",
       "      <th>1964</th>\n",
       "      <th>1965</th>\n",
       "      <th>...</th>\n",
       "      <th>2013</th>\n",
       "      <th>2014</th>\n",
       "      <th>2015</th>\n",
       "      <th>2016</th>\n",
       "      <th>2017</th>\n",
       "      <th>2018</th>\n",
       "      <th>2019</th>\n",
       "      <th>2020</th>\n",
       "      <th>2021</th>\n",
       "      <th>2022</th>\n",
       "    </tr>\n",
       "  </thead>\n",
       "  <tbody>\n",
       "    <tr>\n",
       "      <th>0</th>\n",
       "      <td>Aruba</td>\n",
       "      <td>ABW</td>\n",
       "      <td>Population, total</td>\n",
       "      <td>SP.POP.TOTL</td>\n",
       "      <td>54608.0</td>\n",
       "      <td>55811.0</td>\n",
       "      <td>56682.0</td>\n",
       "      <td>57475.0</td>\n",
       "      <td>58178.0</td>\n",
       "      <td>58782.0</td>\n",
       "      <td>...</td>\n",
       "      <td>102880.0</td>\n",
       "      <td>103594.0</td>\n",
       "      <td>104257.0</td>\n",
       "      <td>104874.0</td>\n",
       "      <td>105439.0</td>\n",
       "      <td>105962.0</td>\n",
       "      <td>106442.0</td>\n",
       "      <td>106585.0</td>\n",
       "      <td>106537.0</td>\n",
       "      <td>NaN</td>\n",
       "    </tr>\n",
       "    <tr>\n",
       "      <th>1</th>\n",
       "      <td>Africa Eastern and Southern</td>\n",
       "      <td>AFE</td>\n",
       "      <td>Population, total</td>\n",
       "      <td>SP.POP.TOTL</td>\n",
       "      <td>130692579.0</td>\n",
       "      <td>134169237.0</td>\n",
       "      <td>137835590.0</td>\n",
       "      <td>141630546.0</td>\n",
       "      <td>145605995.0</td>\n",
       "      <td>149742351.0</td>\n",
       "      <td>...</td>\n",
       "      <td>567891875.0</td>\n",
       "      <td>583650827.0</td>\n",
       "      <td>600008150.0</td>\n",
       "      <td>616377331.0</td>\n",
       "      <td>632746296.0</td>\n",
       "      <td>649756874.0</td>\n",
       "      <td>667242712.0</td>\n",
       "      <td>685112705.0</td>\n",
       "      <td>702976832.0</td>\n",
       "      <td>NaN</td>\n",
       "    </tr>\n",
       "    <tr>\n",
       "      <th>2</th>\n",
       "      <td>Afghanistan</td>\n",
       "      <td>AFG</td>\n",
       "      <td>Population, total</td>\n",
       "      <td>SP.POP.TOTL</td>\n",
       "      <td>8622466.0</td>\n",
       "      <td>8790140.0</td>\n",
       "      <td>8969047.0</td>\n",
       "      <td>9157465.0</td>\n",
       "      <td>9355514.0</td>\n",
       "      <td>9565147.0</td>\n",
       "      <td>...</td>\n",
       "      <td>31541209.0</td>\n",
       "      <td>32716210.0</td>\n",
       "      <td>33753499.0</td>\n",
       "      <td>34636207.0</td>\n",
       "      <td>35643418.0</td>\n",
       "      <td>36686784.0</td>\n",
       "      <td>37769499.0</td>\n",
       "      <td>38972230.0</td>\n",
       "      <td>40099462.0</td>\n",
       "      <td>NaN</td>\n",
       "    </tr>\n",
       "    <tr>\n",
       "      <th>3</th>\n",
       "      <td>Africa Western and Central</td>\n",
       "      <td>AFW</td>\n",
       "      <td>Population, total</td>\n",
       "      <td>SP.POP.TOTL</td>\n",
       "      <td>97256290.0</td>\n",
       "      <td>99314028.0</td>\n",
       "      <td>101445032.0</td>\n",
       "      <td>103667517.0</td>\n",
       "      <td>105959979.0</td>\n",
       "      <td>108336203.0</td>\n",
       "      <td>...</td>\n",
       "      <td>387204553.0</td>\n",
       "      <td>397855507.0</td>\n",
       "      <td>408690375.0</td>\n",
       "      <td>419778384.0</td>\n",
       "      <td>431138704.0</td>\n",
       "      <td>442646825.0</td>\n",
       "      <td>454306063.0</td>\n",
       "      <td>466189102.0</td>\n",
       "      <td>478185907.0</td>\n",
       "      <td>NaN</td>\n",
       "    </tr>\n",
       "    <tr>\n",
       "      <th>4</th>\n",
       "      <td>Angola</td>\n",
       "      <td>AGO</td>\n",
       "      <td>Population, total</td>\n",
       "      <td>SP.POP.TOTL</td>\n",
       "      <td>5357195.0</td>\n",
       "      <td>5441333.0</td>\n",
       "      <td>5521400.0</td>\n",
       "      <td>5599827.0</td>\n",
       "      <td>5673199.0</td>\n",
       "      <td>5736582.0</td>\n",
       "      <td>...</td>\n",
       "      <td>26147002.0</td>\n",
       "      <td>27128337.0</td>\n",
       "      <td>28127721.0</td>\n",
       "      <td>29154746.0</td>\n",
       "      <td>30208628.0</td>\n",
       "      <td>31273533.0</td>\n",
       "      <td>32353588.0</td>\n",
       "      <td>33428486.0</td>\n",
       "      <td>34503774.0</td>\n",
       "      <td>NaN</td>\n",
       "    </tr>\n",
       "  </tbody>\n",
       "</table>\n",
       "<p>5 rows × 67 columns</p>\n",
       "</div>"
      ],
      "text/plain": [
       "                  Country Name Country Code     Indicator Name Indicator Code  \\\n",
       "0                        Aruba          ABW  Population, total    SP.POP.TOTL   \n",
       "1  Africa Eastern and Southern          AFE  Population, total    SP.POP.TOTL   \n",
       "2                  Afghanistan          AFG  Population, total    SP.POP.TOTL   \n",
       "3   Africa Western and Central          AFW  Population, total    SP.POP.TOTL   \n",
       "4                       Angola          AGO  Population, total    SP.POP.TOTL   \n",
       "\n",
       "          1960         1961         1962         1963         1964  \\\n",
       "0      54608.0      55811.0      56682.0      57475.0      58178.0   \n",
       "1  130692579.0  134169237.0  137835590.0  141630546.0  145605995.0   \n",
       "2    8622466.0    8790140.0    8969047.0    9157465.0    9355514.0   \n",
       "3   97256290.0   99314028.0  101445032.0  103667517.0  105959979.0   \n",
       "4    5357195.0    5441333.0    5521400.0    5599827.0    5673199.0   \n",
       "\n",
       "          1965  ...         2013         2014         2015         2016  \\\n",
       "0      58782.0  ...     102880.0     103594.0     104257.0     104874.0   \n",
       "1  149742351.0  ...  567891875.0  583650827.0  600008150.0  616377331.0   \n",
       "2    9565147.0  ...   31541209.0   32716210.0   33753499.0   34636207.0   \n",
       "3  108336203.0  ...  387204553.0  397855507.0  408690375.0  419778384.0   \n",
       "4    5736582.0  ...   26147002.0   27128337.0   28127721.0   29154746.0   \n",
       "\n",
       "          2017         2018         2019         2020         2021  2022  \n",
       "0     105439.0     105962.0     106442.0     106585.0     106537.0   NaN  \n",
       "1  632746296.0  649756874.0  667242712.0  685112705.0  702976832.0   NaN  \n",
       "2   35643418.0   36686784.0   37769499.0   38972230.0   40099462.0   NaN  \n",
       "3  431138704.0  442646825.0  454306063.0  466189102.0  478185907.0   NaN  \n",
       "4   30208628.0   31273533.0   32353588.0   33428486.0   34503774.0   NaN  \n",
       "\n",
       "[5 rows x 67 columns]"
      ]
     },
     "execution_count": 3,
     "metadata": {},
     "output_type": "execute_result"
    }
   ],
   "source": [
    "df.head()"
   ]
  },
  {
   "cell_type": "code",
   "execution_count": 4,
   "id": "4395c0ba",
   "metadata": {},
   "outputs": [
    {
     "data": {
      "text/plain": [
       "(266, 67)"
      ]
     },
     "execution_count": 4,
     "metadata": {},
     "output_type": "execute_result"
    }
   ],
   "source": [
    "df.shape"
   ]
  },
  {
   "cell_type": "code",
   "execution_count": 5,
   "id": "0b9218b3",
   "metadata": {},
   "outputs": [
    {
     "name": "stdout",
     "output_type": "stream",
     "text": [
      "<class 'pandas.core.frame.DataFrame'>\n",
      "RangeIndex: 266 entries, 0 to 265\n",
      "Data columns (total 67 columns):\n",
      " #   Column          Non-Null Count  Dtype  \n",
      "---  ------          --------------  -----  \n",
      " 0   Country Name    266 non-null    object \n",
      " 1   Country Code    266 non-null    object \n",
      " 2   Indicator Name  266 non-null    object \n",
      " 3   Indicator Code  266 non-null    object \n",
      " 4   1960            264 non-null    float64\n",
      " 5   1961            264 non-null    float64\n",
      " 6   1962            264 non-null    float64\n",
      " 7   1963            264 non-null    float64\n",
      " 8   1964            264 non-null    float64\n",
      " 9   1965            264 non-null    float64\n",
      " 10  1966            264 non-null    float64\n",
      " 11  1967            264 non-null    float64\n",
      " 12  1968            264 non-null    float64\n",
      " 13  1969            264 non-null    float64\n",
      " 14  1970            264 non-null    float64\n",
      " 15  1971            264 non-null    float64\n",
      " 16  1972            264 non-null    float64\n",
      " 17  1973            264 non-null    float64\n",
      " 18  1974            264 non-null    float64\n",
      " 19  1975            264 non-null    float64\n",
      " 20  1976            264 non-null    float64\n",
      " 21  1977            264 non-null    float64\n",
      " 22  1978            264 non-null    float64\n",
      " 23  1979            264 non-null    float64\n",
      " 24  1980            264 non-null    float64\n",
      " 25  1981            264 non-null    float64\n",
      " 26  1982            264 non-null    float64\n",
      " 27  1983            264 non-null    float64\n",
      " 28  1984            264 non-null    float64\n",
      " 29  1985            264 non-null    float64\n",
      " 30  1986            264 non-null    float64\n",
      " 31  1987            264 non-null    float64\n",
      " 32  1988            264 non-null    float64\n",
      " 33  1989            264 non-null    float64\n",
      " 34  1990            265 non-null    float64\n",
      " 35  1991            265 non-null    float64\n",
      " 36  1992            265 non-null    float64\n",
      " 37  1993            265 non-null    float64\n",
      " 38  1994            265 non-null    float64\n",
      " 39  1995            265 non-null    float64\n",
      " 40  1996            265 non-null    float64\n",
      " 41  1997            265 non-null    float64\n",
      " 42  1998            265 non-null    float64\n",
      " 43  1999            265 non-null    float64\n",
      " 44  2000            265 non-null    float64\n",
      " 45  2001            265 non-null    float64\n",
      " 46  2002            265 non-null    float64\n",
      " 47  2003            265 non-null    float64\n",
      " 48  2004            265 non-null    float64\n",
      " 49  2005            265 non-null    float64\n",
      " 50  2006            265 non-null    float64\n",
      " 51  2007            265 non-null    float64\n",
      " 52  2008            265 non-null    float64\n",
      " 53  2009            265 non-null    float64\n",
      " 54  2010            265 non-null    float64\n",
      " 55  2011            265 non-null    float64\n",
      " 56  2012            265 non-null    float64\n",
      " 57  2013            265 non-null    float64\n",
      " 58  2014            265 non-null    float64\n",
      " 59  2015            265 non-null    float64\n",
      " 60  2016            265 non-null    float64\n",
      " 61  2017            265 non-null    float64\n",
      " 62  2018            265 non-null    float64\n",
      " 63  2019            265 non-null    float64\n",
      " 64  2020            265 non-null    float64\n",
      " 65  2021            265 non-null    float64\n",
      " 66  2022            0 non-null      float64\n",
      "dtypes: float64(63), object(4)\n",
      "memory usage: 139.4+ KB\n"
     ]
    }
   ],
   "source": [
    "df.info()"
   ]
  },
  {
   "cell_type": "markdown",
   "id": "1e6f369c",
   "metadata": {},
   "source": [
    "# Fill the null values:-"
   ]
  },
  {
   "cell_type": "code",
   "execution_count": 6,
   "id": "f50f1253",
   "metadata": {},
   "outputs": [
    {
     "data": {
      "text/plain": [
       "True"
      ]
     },
     "execution_count": 6,
     "metadata": {},
     "output_type": "execute_result"
    }
   ],
   "source": [
    "df.isnull().sum().any()"
   ]
  },
  {
   "cell_type": "code",
   "execution_count": 7,
   "id": "484092f4",
   "metadata": {},
   "outputs": [
    {
     "data": {
      "text/html": [
       "<div>\n",
       "<style scoped>\n",
       "    .dataframe tbody tr th:only-of-type {\n",
       "        vertical-align: middle;\n",
       "    }\n",
       "\n",
       "    .dataframe tbody tr th {\n",
       "        vertical-align: top;\n",
       "    }\n",
       "\n",
       "    .dataframe thead th {\n",
       "        text-align: right;\n",
       "    }\n",
       "</style>\n",
       "<table border=\"1\" class=\"dataframe\">\n",
       "  <thead>\n",
       "    <tr style=\"text-align: right;\">\n",
       "      <th></th>\n",
       "      <th>Country Name</th>\n",
       "      <th>Country Code</th>\n",
       "      <th>Indicator Name</th>\n",
       "      <th>Indicator Code</th>\n",
       "      <th>1960</th>\n",
       "      <th>1961</th>\n",
       "      <th>1962</th>\n",
       "      <th>1963</th>\n",
       "      <th>1964</th>\n",
       "      <th>1965</th>\n",
       "      <th>...</th>\n",
       "      <th>2013</th>\n",
       "      <th>2014</th>\n",
       "      <th>2015</th>\n",
       "      <th>2016</th>\n",
       "      <th>2017</th>\n",
       "      <th>2018</th>\n",
       "      <th>2019</th>\n",
       "      <th>2020</th>\n",
       "      <th>2021</th>\n",
       "      <th>2022</th>\n",
       "    </tr>\n",
       "  </thead>\n",
       "  <tbody>\n",
       "    <tr>\n",
       "      <th>0</th>\n",
       "      <td>Aruba</td>\n",
       "      <td>ABW</td>\n",
       "      <td>Population, total</td>\n",
       "      <td>SP.POP.TOTL</td>\n",
       "      <td>54608.0</td>\n",
       "      <td>55811.0</td>\n",
       "      <td>56682.0</td>\n",
       "      <td>57475.0</td>\n",
       "      <td>58178.0</td>\n",
       "      <td>58782.0</td>\n",
       "      <td>...</td>\n",
       "      <td>102880.0</td>\n",
       "      <td>103594.0</td>\n",
       "      <td>104257.0</td>\n",
       "      <td>104874.0</td>\n",
       "      <td>105439.0</td>\n",
       "      <td>105962.0</td>\n",
       "      <td>106442.0</td>\n",
       "      <td>106585.0</td>\n",
       "      <td>106537.0</td>\n",
       "      <td>NaN</td>\n",
       "    </tr>\n",
       "    <tr>\n",
       "      <th>1</th>\n",
       "      <td>Africa Eastern and Southern</td>\n",
       "      <td>AFE</td>\n",
       "      <td>Population, total</td>\n",
       "      <td>SP.POP.TOTL</td>\n",
       "      <td>130692579.0</td>\n",
       "      <td>134169237.0</td>\n",
       "      <td>137835590.0</td>\n",
       "      <td>141630546.0</td>\n",
       "      <td>145605995.0</td>\n",
       "      <td>149742351.0</td>\n",
       "      <td>...</td>\n",
       "      <td>567891875.0</td>\n",
       "      <td>583650827.0</td>\n",
       "      <td>600008150.0</td>\n",
       "      <td>616377331.0</td>\n",
       "      <td>632746296.0</td>\n",
       "      <td>649756874.0</td>\n",
       "      <td>667242712.0</td>\n",
       "      <td>685112705.0</td>\n",
       "      <td>702976832.0</td>\n",
       "      <td>NaN</td>\n",
       "    </tr>\n",
       "    <tr>\n",
       "      <th>2</th>\n",
       "      <td>Afghanistan</td>\n",
       "      <td>AFG</td>\n",
       "      <td>Population, total</td>\n",
       "      <td>SP.POP.TOTL</td>\n",
       "      <td>8622466.0</td>\n",
       "      <td>8790140.0</td>\n",
       "      <td>8969047.0</td>\n",
       "      <td>9157465.0</td>\n",
       "      <td>9355514.0</td>\n",
       "      <td>9565147.0</td>\n",
       "      <td>...</td>\n",
       "      <td>31541209.0</td>\n",
       "      <td>32716210.0</td>\n",
       "      <td>33753499.0</td>\n",
       "      <td>34636207.0</td>\n",
       "      <td>35643418.0</td>\n",
       "      <td>36686784.0</td>\n",
       "      <td>37769499.0</td>\n",
       "      <td>38972230.0</td>\n",
       "      <td>40099462.0</td>\n",
       "      <td>NaN</td>\n",
       "    </tr>\n",
       "    <tr>\n",
       "      <th>3</th>\n",
       "      <td>Africa Western and Central</td>\n",
       "      <td>AFW</td>\n",
       "      <td>Population, total</td>\n",
       "      <td>SP.POP.TOTL</td>\n",
       "      <td>97256290.0</td>\n",
       "      <td>99314028.0</td>\n",
       "      <td>101445032.0</td>\n",
       "      <td>103667517.0</td>\n",
       "      <td>105959979.0</td>\n",
       "      <td>108336203.0</td>\n",
       "      <td>...</td>\n",
       "      <td>387204553.0</td>\n",
       "      <td>397855507.0</td>\n",
       "      <td>408690375.0</td>\n",
       "      <td>419778384.0</td>\n",
       "      <td>431138704.0</td>\n",
       "      <td>442646825.0</td>\n",
       "      <td>454306063.0</td>\n",
       "      <td>466189102.0</td>\n",
       "      <td>478185907.0</td>\n",
       "      <td>NaN</td>\n",
       "    </tr>\n",
       "    <tr>\n",
       "      <th>4</th>\n",
       "      <td>Angola</td>\n",
       "      <td>AGO</td>\n",
       "      <td>Population, total</td>\n",
       "      <td>SP.POP.TOTL</td>\n",
       "      <td>5357195.0</td>\n",
       "      <td>5441333.0</td>\n",
       "      <td>5521400.0</td>\n",
       "      <td>5599827.0</td>\n",
       "      <td>5673199.0</td>\n",
       "      <td>5736582.0</td>\n",
       "      <td>...</td>\n",
       "      <td>26147002.0</td>\n",
       "      <td>27128337.0</td>\n",
       "      <td>28127721.0</td>\n",
       "      <td>29154746.0</td>\n",
       "      <td>30208628.0</td>\n",
       "      <td>31273533.0</td>\n",
       "      <td>32353588.0</td>\n",
       "      <td>33428486.0</td>\n",
       "      <td>34503774.0</td>\n",
       "      <td>NaN</td>\n",
       "    </tr>\n",
       "  </tbody>\n",
       "</table>\n",
       "<p>5 rows × 67 columns</p>\n",
       "</div>"
      ],
      "text/plain": [
       "                  Country Name Country Code     Indicator Name Indicator Code  \\\n",
       "0                        Aruba          ABW  Population, total    SP.POP.TOTL   \n",
       "1  Africa Eastern and Southern          AFE  Population, total    SP.POP.TOTL   \n",
       "2                  Afghanistan          AFG  Population, total    SP.POP.TOTL   \n",
       "3   Africa Western and Central          AFW  Population, total    SP.POP.TOTL   \n",
       "4                       Angola          AGO  Population, total    SP.POP.TOTL   \n",
       "\n",
       "          1960         1961         1962         1963         1964  \\\n",
       "0      54608.0      55811.0      56682.0      57475.0      58178.0   \n",
       "1  130692579.0  134169237.0  137835590.0  141630546.0  145605995.0   \n",
       "2    8622466.0    8790140.0    8969047.0    9157465.0    9355514.0   \n",
       "3   97256290.0   99314028.0  101445032.0  103667517.0  105959979.0   \n",
       "4    5357195.0    5441333.0    5521400.0    5599827.0    5673199.0   \n",
       "\n",
       "          1965  ...         2013         2014         2015         2016  \\\n",
       "0      58782.0  ...     102880.0     103594.0     104257.0     104874.0   \n",
       "1  149742351.0  ...  567891875.0  583650827.0  600008150.0  616377331.0   \n",
       "2    9565147.0  ...   31541209.0   32716210.0   33753499.0   34636207.0   \n",
       "3  108336203.0  ...  387204553.0  397855507.0  408690375.0  419778384.0   \n",
       "4    5736582.0  ...   26147002.0   27128337.0   28127721.0   29154746.0   \n",
       "\n",
       "          2017         2018         2019         2020         2021  2022  \n",
       "0     105439.0     105962.0     106442.0     106585.0     106537.0   NaN  \n",
       "1  632746296.0  649756874.0  667242712.0  685112705.0  702976832.0   NaN  \n",
       "2   35643418.0   36686784.0   37769499.0   38972230.0   40099462.0   NaN  \n",
       "3  431138704.0  442646825.0  454306063.0  466189102.0  478185907.0   NaN  \n",
       "4   30208628.0   31273533.0   32353588.0   33428486.0   34503774.0   NaN  \n",
       "\n",
       "[5 rows x 67 columns]"
      ]
     },
     "execution_count": 7,
     "metadata": {},
     "output_type": "execute_result"
    }
   ],
   "source": [
    "df = df.fillna(method = \"bfill\")\n",
    "df.head()"
   ]
  },
  {
   "cell_type": "code",
   "execution_count": 8,
   "id": "044393be",
   "metadata": {},
   "outputs": [
    {
     "data": {
      "text/plain": [
       "True"
      ]
     },
     "execution_count": 8,
     "metadata": {},
     "output_type": "execute_result"
    }
   ],
   "source": [
    "df.isnull().sum().any()"
   ]
  },
  {
   "cell_type": "code",
   "execution_count": 9,
   "id": "21bc4d73",
   "metadata": {},
   "outputs": [],
   "source": [
    "df = df.drop([\"2022\"],axis = 1)"
   ]
  },
  {
   "cell_type": "code",
   "execution_count": 10,
   "id": "c5313be6",
   "metadata": {},
   "outputs": [
    {
     "data": {
      "text/plain": [
       "False"
      ]
     },
     "execution_count": 10,
     "metadata": {},
     "output_type": "execute_result"
    }
   ],
   "source": [
    "df.isnull().sum().any()"
   ]
  },
  {
   "cell_type": "code",
   "execution_count": 11,
   "id": "d15dc61f",
   "metadata": {},
   "outputs": [
    {
     "name": "stdout",
     "output_type": "stream",
     "text": [
      "<class 'pandas.core.frame.DataFrame'>\n",
      "RangeIndex: 266 entries, 0 to 265\n",
      "Data columns (total 66 columns):\n",
      " #   Column          Non-Null Count  Dtype  \n",
      "---  ------          --------------  -----  \n",
      " 0   Country Name    266 non-null    object \n",
      " 1   Country Code    266 non-null    object \n",
      " 2   Indicator Name  266 non-null    object \n",
      " 3   Indicator Code  266 non-null    object \n",
      " 4   1960            266 non-null    float64\n",
      " 5   1961            266 non-null    float64\n",
      " 6   1962            266 non-null    float64\n",
      " 7   1963            266 non-null    float64\n",
      " 8   1964            266 non-null    float64\n",
      " 9   1965            266 non-null    float64\n",
      " 10  1966            266 non-null    float64\n",
      " 11  1967            266 non-null    float64\n",
      " 12  1968            266 non-null    float64\n",
      " 13  1969            266 non-null    float64\n",
      " 14  1970            266 non-null    float64\n",
      " 15  1971            266 non-null    float64\n",
      " 16  1972            266 non-null    float64\n",
      " 17  1973            266 non-null    float64\n",
      " 18  1974            266 non-null    float64\n",
      " 19  1975            266 non-null    float64\n",
      " 20  1976            266 non-null    float64\n",
      " 21  1977            266 non-null    float64\n",
      " 22  1978            266 non-null    float64\n",
      " 23  1979            266 non-null    float64\n",
      " 24  1980            266 non-null    float64\n",
      " 25  1981            266 non-null    float64\n",
      " 26  1982            266 non-null    float64\n",
      " 27  1983            266 non-null    float64\n",
      " 28  1984            266 non-null    float64\n",
      " 29  1985            266 non-null    float64\n",
      " 30  1986            266 non-null    float64\n",
      " 31  1987            266 non-null    float64\n",
      " 32  1988            266 non-null    float64\n",
      " 33  1989            266 non-null    float64\n",
      " 34  1990            266 non-null    float64\n",
      " 35  1991            266 non-null    float64\n",
      " 36  1992            266 non-null    float64\n",
      " 37  1993            266 non-null    float64\n",
      " 38  1994            266 non-null    float64\n",
      " 39  1995            266 non-null    float64\n",
      " 40  1996            266 non-null    float64\n",
      " 41  1997            266 non-null    float64\n",
      " 42  1998            266 non-null    float64\n",
      " 43  1999            266 non-null    float64\n",
      " 44  2000            266 non-null    float64\n",
      " 45  2001            266 non-null    float64\n",
      " 46  2002            266 non-null    float64\n",
      " 47  2003            266 non-null    float64\n",
      " 48  2004            266 non-null    float64\n",
      " 49  2005            266 non-null    float64\n",
      " 50  2006            266 non-null    float64\n",
      " 51  2007            266 non-null    float64\n",
      " 52  2008            266 non-null    float64\n",
      " 53  2009            266 non-null    float64\n",
      " 54  2010            266 non-null    float64\n",
      " 55  2011            266 non-null    float64\n",
      " 56  2012            266 non-null    float64\n",
      " 57  2013            266 non-null    float64\n",
      " 58  2014            266 non-null    float64\n",
      " 59  2015            266 non-null    float64\n",
      " 60  2016            266 non-null    float64\n",
      " 61  2017            266 non-null    float64\n",
      " 62  2018            266 non-null    float64\n",
      " 63  2019            266 non-null    float64\n",
      " 64  2020            266 non-null    float64\n",
      " 65  2021            266 non-null    float64\n",
      "dtypes: float64(62), object(4)\n",
      "memory usage: 137.3+ KB\n"
     ]
    }
   ],
   "source": [
    "df.info()"
   ]
  },
  {
   "cell_type": "code",
   "execution_count": 12,
   "id": "38252bc5",
   "metadata": {},
   "outputs": [
    {
     "data": {
      "text/plain": [
       "(266, 66)"
      ]
     },
     "execution_count": 12,
     "metadata": {},
     "output_type": "execute_result"
    }
   ],
   "source": [
    "df.shape"
   ]
  },
  {
   "cell_type": "code",
   "execution_count": 13,
   "id": "6dd6b1b1",
   "metadata": {},
   "outputs": [
    {
     "data": {
      "text/html": [
       "<div>\n",
       "<style scoped>\n",
       "    .dataframe tbody tr th:only-of-type {\n",
       "        vertical-align: middle;\n",
       "    }\n",
       "\n",
       "    .dataframe tbody tr th {\n",
       "        vertical-align: top;\n",
       "    }\n",
       "\n",
       "    .dataframe thead th {\n",
       "        text-align: right;\n",
       "    }\n",
       "</style>\n",
       "<table border=\"1\" class=\"dataframe\">\n",
       "  <thead>\n",
       "    <tr style=\"text-align: right;\">\n",
       "      <th></th>\n",
       "      <th>1960</th>\n",
       "      <th>1961</th>\n",
       "      <th>1962</th>\n",
       "      <th>1963</th>\n",
       "      <th>1964</th>\n",
       "      <th>1965</th>\n",
       "      <th>1966</th>\n",
       "      <th>1967</th>\n",
       "      <th>1968</th>\n",
       "      <th>1969</th>\n",
       "      <th>...</th>\n",
       "      <th>2012</th>\n",
       "      <th>2013</th>\n",
       "      <th>2014</th>\n",
       "      <th>2015</th>\n",
       "      <th>2016</th>\n",
       "      <th>2017</th>\n",
       "      <th>2018</th>\n",
       "      <th>2019</th>\n",
       "      <th>2020</th>\n",
       "      <th>2021</th>\n",
       "    </tr>\n",
       "  </thead>\n",
       "  <tbody>\n",
       "    <tr>\n",
       "      <th>count</th>\n",
       "      <td>2.660000e+02</td>\n",
       "      <td>2.660000e+02</td>\n",
       "      <td>2.660000e+02</td>\n",
       "      <td>2.660000e+02</td>\n",
       "      <td>2.660000e+02</td>\n",
       "      <td>2.660000e+02</td>\n",
       "      <td>2.660000e+02</td>\n",
       "      <td>2.660000e+02</td>\n",
       "      <td>2.660000e+02</td>\n",
       "      <td>2.660000e+02</td>\n",
       "      <td>...</td>\n",
       "      <td>2.660000e+02</td>\n",
       "      <td>2.660000e+02</td>\n",
       "      <td>2.660000e+02</td>\n",
       "      <td>2.660000e+02</td>\n",
       "      <td>2.660000e+02</td>\n",
       "      <td>2.660000e+02</td>\n",
       "      <td>2.660000e+02</td>\n",
       "      <td>2.660000e+02</td>\n",
       "      <td>2.660000e+02</td>\n",
       "      <td>2.660000e+02</td>\n",
       "    </tr>\n",
       "    <tr>\n",
       "      <th>mean</th>\n",
       "      <td>1.163924e+08</td>\n",
       "      <td>1.179896e+08</td>\n",
       "      <td>1.201433e+08</td>\n",
       "      <td>1.228050e+08</td>\n",
       "      <td>1.254889e+08</td>\n",
       "      <td>1.282115e+08</td>\n",
       "      <td>1.310490e+08</td>\n",
       "      <td>1.338850e+08</td>\n",
       "      <td>1.368005e+08</td>\n",
       "      <td>1.398204e+08</td>\n",
       "      <td>...</td>\n",
       "      <td>2.876648e+08</td>\n",
       "      <td>2.915428e+08</td>\n",
       "      <td>2.954333e+08</td>\n",
       "      <td>2.992921e+08</td>\n",
       "      <td>3.031409e+08</td>\n",
       "      <td>3.069828e+08</td>\n",
       "      <td>3.107378e+08</td>\n",
       "      <td>3.144021e+08</td>\n",
       "      <td>3.179666e+08</td>\n",
       "      <td>3.211808e+08</td>\n",
       "    </tr>\n",
       "    <tr>\n",
       "      <th>std</th>\n",
       "      <td>3.679379e+08</td>\n",
       "      <td>3.724780e+08</td>\n",
       "      <td>3.791709e+08</td>\n",
       "      <td>3.878287e+08</td>\n",
       "      <td>3.965292e+08</td>\n",
       "      <td>4.053607e+08</td>\n",
       "      <td>4.146526e+08</td>\n",
       "      <td>4.239022e+08</td>\n",
       "      <td>4.334374e+08</td>\n",
       "      <td>4.433617e+08</td>\n",
       "      <td>...</td>\n",
       "      <td>9.052446e+08</td>\n",
       "      <td>9.167081e+08</td>\n",
       "      <td>9.281608e+08</td>\n",
       "      <td>9.394658e+08</td>\n",
       "      <td>9.506829e+08</td>\n",
       "      <td>9.618708e+08</td>\n",
       "      <td>9.726931e+08</td>\n",
       "      <td>9.831577e+08</td>\n",
       "      <td>9.932045e+08</td>\n",
       "      <td>1.002190e+09</td>\n",
       "    </tr>\n",
       "    <tr>\n",
       "      <th>min</th>\n",
       "      <td>2.646000e+03</td>\n",
       "      <td>2.888000e+03</td>\n",
       "      <td>3.171000e+03</td>\n",
       "      <td>3.481000e+03</td>\n",
       "      <td>3.811000e+03</td>\n",
       "      <td>4.161000e+03</td>\n",
       "      <td>4.531000e+03</td>\n",
       "      <td>4.930000e+03</td>\n",
       "      <td>5.354000e+03</td>\n",
       "      <td>5.646000e+03</td>\n",
       "      <td>...</td>\n",
       "      <td>1.044400e+04</td>\n",
       "      <td>1.069400e+04</td>\n",
       "      <td>1.089900e+04</td>\n",
       "      <td>1.087700e+04</td>\n",
       "      <td>1.085200e+04</td>\n",
       "      <td>1.082800e+04</td>\n",
       "      <td>1.086500e+04</td>\n",
       "      <td>1.095600e+04</td>\n",
       "      <td>1.106900e+04</td>\n",
       "      <td>1.120400e+04</td>\n",
       "    </tr>\n",
       "    <tr>\n",
       "      <th>25%</th>\n",
       "      <td>5.191432e+05</td>\n",
       "      <td>5.299130e+05</td>\n",
       "      <td>5.416058e+05</td>\n",
       "      <td>5.539315e+05</td>\n",
       "      <td>5.669115e+05</td>\n",
       "      <td>5.726408e+05</td>\n",
       "      <td>5.714950e+05</td>\n",
       "      <td>5.893528e+05</td>\n",
       "      <td>5.957192e+05</td>\n",
       "      <td>6.001152e+05</td>\n",
       "      <td>...</td>\n",
       "      <td>1.691314e+06</td>\n",
       "      <td>1.727844e+06</td>\n",
       "      <td>1.760674e+06</td>\n",
       "      <td>1.788377e+06</td>\n",
       "      <td>1.791806e+06</td>\n",
       "      <td>1.813209e+06</td>\n",
       "      <td>1.829052e+06</td>\n",
       "      <td>1.820114e+06</td>\n",
       "      <td>1.817712e+06</td>\n",
       "      <td>1.810651e+06</td>\n",
       "    </tr>\n",
       "    <tr>\n",
       "      <th>50%</th>\n",
       "      <td>3.708088e+06</td>\n",
       "      <td>3.816540e+06</td>\n",
       "      <td>3.931214e+06</td>\n",
       "      <td>4.033994e+06</td>\n",
       "      <td>4.112910e+06</td>\n",
       "      <td>4.194930e+06</td>\n",
       "      <td>4.257383e+06</td>\n",
       "      <td>4.317222e+06</td>\n",
       "      <td>4.410692e+06</td>\n",
       "      <td>4.515734e+06</td>\n",
       "      <td>...</td>\n",
       "      <td>9.857920e+06</td>\n",
       "      <td>1.002133e+07</td>\n",
       "      <td>1.007429e+07</td>\n",
       "      <td>1.010055e+07</td>\n",
       "      <td>1.014505e+07</td>\n",
       "      <td>1.025784e+07</td>\n",
       "      <td>1.033958e+07</td>\n",
       "      <td>1.036696e+07</td>\n",
       "      <td>1.047983e+07</td>\n",
       "      <td>1.046079e+07</td>\n",
       "    </tr>\n",
       "    <tr>\n",
       "      <th>75%</th>\n",
       "      <td>2.620053e+07</td>\n",
       "      <td>2.699139e+07</td>\n",
       "      <td>2.780989e+07</td>\n",
       "      <td>2.865103e+07</td>\n",
       "      <td>2.950622e+07</td>\n",
       "      <td>3.029002e+07</td>\n",
       "      <td>3.106874e+07</td>\n",
       "      <td>3.152311e+07</td>\n",
       "      <td>3.193057e+07</td>\n",
       "      <td>3.229729e+07</td>\n",
       "      <td>...</td>\n",
       "      <td>5.794105e+07</td>\n",
       "      <td>5.864386e+07</td>\n",
       "      <td>5.927424e+07</td>\n",
       "      <td>5.951706e+07</td>\n",
       "      <td>5.957619e+07</td>\n",
       "      <td>5.956283e+07</td>\n",
       "      <td>5.983893e+07</td>\n",
       "      <td>5.983670e+07</td>\n",
       "      <td>6.113810e+07</td>\n",
       "      <td>6.253931e+07</td>\n",
       "    </tr>\n",
       "    <tr>\n",
       "      <th>max</th>\n",
       "      <td>3.031565e+09</td>\n",
       "      <td>3.072511e+09</td>\n",
       "      <td>3.126935e+09</td>\n",
       "      <td>3.193509e+09</td>\n",
       "      <td>3.260518e+09</td>\n",
       "      <td>3.328285e+09</td>\n",
       "      <td>3.398561e+09</td>\n",
       "      <td>3.468457e+09</td>\n",
       "      <td>3.540255e+09</td>\n",
       "      <td>3.614669e+09</td>\n",
       "      <td>...</td>\n",
       "      <td>7.140896e+09</td>\n",
       "      <td>7.229185e+09</td>\n",
       "      <td>7.317509e+09</td>\n",
       "      <td>7.404911e+09</td>\n",
       "      <td>7.491934e+09</td>\n",
       "      <td>7.578158e+09</td>\n",
       "      <td>7.661776e+09</td>\n",
       "      <td>7.742682e+09</td>\n",
       "      <td>7.820982e+09</td>\n",
       "      <td>7.888409e+09</td>\n",
       "    </tr>\n",
       "  </tbody>\n",
       "</table>\n",
       "<p>8 rows × 62 columns</p>\n",
       "</div>"
      ],
      "text/plain": [
       "               1960          1961          1962          1963          1964  \\\n",
       "count  2.660000e+02  2.660000e+02  2.660000e+02  2.660000e+02  2.660000e+02   \n",
       "mean   1.163924e+08  1.179896e+08  1.201433e+08  1.228050e+08  1.254889e+08   \n",
       "std    3.679379e+08  3.724780e+08  3.791709e+08  3.878287e+08  3.965292e+08   \n",
       "min    2.646000e+03  2.888000e+03  3.171000e+03  3.481000e+03  3.811000e+03   \n",
       "25%    5.191432e+05  5.299130e+05  5.416058e+05  5.539315e+05  5.669115e+05   \n",
       "50%    3.708088e+06  3.816540e+06  3.931214e+06  4.033994e+06  4.112910e+06   \n",
       "75%    2.620053e+07  2.699139e+07  2.780989e+07  2.865103e+07  2.950622e+07   \n",
       "max    3.031565e+09  3.072511e+09  3.126935e+09  3.193509e+09  3.260518e+09   \n",
       "\n",
       "               1965          1966          1967          1968          1969  \\\n",
       "count  2.660000e+02  2.660000e+02  2.660000e+02  2.660000e+02  2.660000e+02   \n",
       "mean   1.282115e+08  1.310490e+08  1.338850e+08  1.368005e+08  1.398204e+08   \n",
       "std    4.053607e+08  4.146526e+08  4.239022e+08  4.334374e+08  4.433617e+08   \n",
       "min    4.161000e+03  4.531000e+03  4.930000e+03  5.354000e+03  5.646000e+03   \n",
       "25%    5.726408e+05  5.714950e+05  5.893528e+05  5.957192e+05  6.001152e+05   \n",
       "50%    4.194930e+06  4.257383e+06  4.317222e+06  4.410692e+06  4.515734e+06   \n",
       "75%    3.029002e+07  3.106874e+07  3.152311e+07  3.193057e+07  3.229729e+07   \n",
       "max    3.328285e+09  3.398561e+09  3.468457e+09  3.540255e+09  3.614669e+09   \n",
       "\n",
       "       ...          2012          2013          2014          2015  \\\n",
       "count  ...  2.660000e+02  2.660000e+02  2.660000e+02  2.660000e+02   \n",
       "mean   ...  2.876648e+08  2.915428e+08  2.954333e+08  2.992921e+08   \n",
       "std    ...  9.052446e+08  9.167081e+08  9.281608e+08  9.394658e+08   \n",
       "min    ...  1.044400e+04  1.069400e+04  1.089900e+04  1.087700e+04   \n",
       "25%    ...  1.691314e+06  1.727844e+06  1.760674e+06  1.788377e+06   \n",
       "50%    ...  9.857920e+06  1.002133e+07  1.007429e+07  1.010055e+07   \n",
       "75%    ...  5.794105e+07  5.864386e+07  5.927424e+07  5.951706e+07   \n",
       "max    ...  7.140896e+09  7.229185e+09  7.317509e+09  7.404911e+09   \n",
       "\n",
       "               2016          2017          2018          2019          2020  \\\n",
       "count  2.660000e+02  2.660000e+02  2.660000e+02  2.660000e+02  2.660000e+02   \n",
       "mean   3.031409e+08  3.069828e+08  3.107378e+08  3.144021e+08  3.179666e+08   \n",
       "std    9.506829e+08  9.618708e+08  9.726931e+08  9.831577e+08  9.932045e+08   \n",
       "min    1.085200e+04  1.082800e+04  1.086500e+04  1.095600e+04  1.106900e+04   \n",
       "25%    1.791806e+06  1.813209e+06  1.829052e+06  1.820114e+06  1.817712e+06   \n",
       "50%    1.014505e+07  1.025784e+07  1.033958e+07  1.036696e+07  1.047983e+07   \n",
       "75%    5.957619e+07  5.956283e+07  5.983893e+07  5.983670e+07  6.113810e+07   \n",
       "max    7.491934e+09  7.578158e+09  7.661776e+09  7.742682e+09  7.820982e+09   \n",
       "\n",
       "               2021  \n",
       "count  2.660000e+02  \n",
       "mean   3.211808e+08  \n",
       "std    1.002190e+09  \n",
       "min    1.120400e+04  \n",
       "25%    1.810651e+06  \n",
       "50%    1.046079e+07  \n",
       "75%    6.253931e+07  \n",
       "max    7.888409e+09  \n",
       "\n",
       "[8 rows x 62 columns]"
      ]
     },
     "execution_count": 13,
     "metadata": {},
     "output_type": "execute_result"
    }
   ],
   "source": [
    "df.describe()"
   ]
  },
  {
   "cell_type": "markdown",
   "id": "4ddd9fe0",
   "metadata": {},
   "source": [
    "# Data Visualization:-"
   ]
  },
  {
   "cell_type": "code",
   "execution_count": 14,
   "id": "5265b604",
   "metadata": {},
   "outputs": [
    {
     "data": {
      "text/plain": [
       "<AxesSubplot: xlabel='1960', ylabel='Count'>"
      ]
     },
     "execution_count": 14,
     "metadata": {},
     "output_type": "execute_result"
    },
    {
     "data": {
      "image/png": "[encoded data removed]",
      "text/plain": [
       "<Figure size 1600x900 with 1 Axes>"
      ]
     },
     "metadata": {},
     "output_type": "display_data"
    }
   ],
   "source": [
    "plt.figure(figsize = (16,9))\n",
    "sns.histplot(df[\"1960\"],bins = 10)"
   ]
  },
  {
   "cell_type": "code",
   "execution_count": 15,
   "id": "fa6d9bb2",
   "metadata": {},
   "outputs": [
    {
     "data": {
      "text/plain": [
       "<AxesSubplot: xlabel='1970', ylabel='Count'>"
      ]
     },
     "execution_count": 15,
     "metadata": {},
     "output_type": "execute_result"
    },
    {
     "data": {
      "image/png": "[encoded data removed]",
      "text/plain": [
       "<Figure size 1600x900 with 1 Axes>"
      ]
     },
     "metadata": {},
     "output_type": "display_data"
    }
   ],
   "source": [
    "plt.figure(figsize = (16,9))\n",
    "sns.histplot(df[\"1970\"],bins = 10,color = \"red\")"
   ]
  },
  {
   "cell_type": "code",
   "execution_count": 16,
   "id": "12a32e50",
   "metadata": {},
   "outputs": [
    {
     "data": {
      "text/plain": [
       "<AxesSubplot: xlabel='1980', ylabel='Count'>"
      ]
     },
     "execution_count": 16,
     "metadata": {},
     "output_type": "execute_result"
    },
    {
     "data": {
      "image/png": "[encoded data removed]",
      "text/plain": [
       "<Figure size 1600x900 with 1 Axes>"
      ]
     },
     "metadata": {},
     "output_type": "display_data"
    }
   ],
   "source": [
    "plt.figure(figsize = (16,9))\n",
    "sns.histplot(df[\"1980\"],bins = 10,color = \"green\")"
   ]
  },
  {
   "cell_type": "code",
   "execution_count": 17,
   "id": "838edd8b",
   "metadata": {},
   "outputs": [
    {
     "data": {
      "text/plain": [
       "<AxesSubplot: xlabel='1990', ylabel='Count'>"
      ]
     },
     "execution_count": 17,
     "metadata": {},
     "output_type": "execute_result"
    },
    {
     "data": {
      "image/png": "[encoded data removed]",
      "text/plain": [
       "<Figure size 1600x900 with 1 Axes>"
      ]
     },
     "metadata": {},
     "output_type": "display_data"
    }
   ],
   "source": [
    "plt.figure(figsize = (16,9))\n",
    "sns.histplot(df[\"1990\"],bins = 10,color = \"yellow\")"
   ]
  },
  {
   "cell_type": "code",
   "execution_count": 18,
   "id": "7c0b5dd9",
   "metadata": {},
   "outputs": [
    {
     "data": {
      "text/plain": [
       "<AxesSubplot: xlabel='2000', ylabel='Count'>"
      ]
     },
     "execution_count": 18,
     "metadata": {},
     "output_type": "execute_result"
    },
    {
     "data": {
      "image/png": "[encoded data removed]",
      "text/plain": [
       "<Figure size 1600x900 with 1 Axes>"
      ]
     },
     "metadata": {},
     "output_type": "display_data"
    }
   ],
   "source": [
    "plt.figure(figsize = (16,9))\n",
    "sns.histplot(df[\"2000\"],bins = 10,color = \"b\")"
   ]
  },
  {
   "cell_type": "code",
   "execution_count": 19,
   "id": "26a64868",
   "metadata": {},
   "outputs": [
    {
     "data": {
      "text/plain": [
       "<AxesSubplot: xlabel='2010', ylabel='Count'>"
      ]
     },
     "execution_count": 19,
     "metadata": {},
     "output_type": "execute_result"
    },
    {
     "data": {
      "image/png": "[encoded data removed]",
      "text/plain": [
       "<Figure size 1600x900 with 1 Axes>"
      ]
     },
     "metadata": {},
     "output_type": "display_data"
    }
   ],
   "source": [
    "plt.figure(figsize = (16,9))\n",
    "sns.histplot(df[\"2010\"],bins = 10,color = \"pink\")"
   ]
  },
  {
   "cell_type": "code",
   "execution_count": 20,
   "id": "fa0b3cba",
   "metadata": {},
   "outputs": [
    {
     "data": {
      "text/plain": [
       "<AxesSubplot: xlabel='2020', ylabel='Count'>"
      ]
     },
     "execution_count": 20,
     "metadata": {},
     "output_type": "execute_result"
    },
    {
     "data": {
      "image/png": "[encoded data removed]",
      "text/plain": [
       "<Figure size 1600x900 with 1 Axes>"
      ]
     },
     "metadata": {},
     "output_type": "display_data"
    }
   ],
   "source": [
    "plt.figure(figsize = (16,9))\n",
    "sns.histplot(df[\"2020\"],bins = 10,color = \"m\")"
   ]
  },
  {
   "cell_type": "code",
   "execution_count": null,
   "id": "9fea6337",
   "metadata": {},
   "outputs": [],
   "source": []
  }
 ],
 "metadata": {
  "kernelspec": {
   "display_name": "Python 3 (ipykernel)",
   "language": "python",
   "name": "python3"
  },
  "language_info": {
   "codemirror_mode": {
    "name": "ipython",
    "version": 3
   },
   "file_extension": ".py",
   "mimetype": "text/x-python",
   "name": "python",
   "nbconvert_exporter": "python",
   "pygments_lexer": "ipython3",
   "version": "3.10.7"
  }
 },
 "nbformat": 4,
 "nbformat_minor": 5
}
